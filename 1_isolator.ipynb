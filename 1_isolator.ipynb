{
 "cells": [
  {
   "cell_type": "code",
   "execution_count": 3,
   "metadata": {},
   "outputs": [],
   "source": [
    "import sympy as sp\n",
    "import jax\n",
    "jax.config.update(\"jax_enable_x64\", True)\n",
    "\n",
    "import matplotlib.pyplot as plt\n",
    "import multimode_systems.architecture_optimizer_new as arch_opt"
   ]
  },
  {
   "cell_type": "code",
   "execution_count": 9,
   "id": "0db02b23",
   "metadata": {},
   "outputs": [
    {
     "name": "stderr",
     "output_type": "stream",
     "text": [
      "216it [00:00, 499983.26it/s]\n",
      "100%|██████████| 1/1 [00:00<00:00, 53.22it/s]\n",
      "1it [00:00, 3002.37it/s]\n",
      "100%|██████████| 6/6 [00:00<00:00, 65.11it/s]\n",
      "5it [00:00, 7541.00it/s]\n",
      "100%|██████████| 15/15 [00:00<00:00, 34.40it/s]\n",
      "10it [00:00, 9310.33it/s]\n",
      "100%|██████████| 10/10 [00:00<00:00, 62.94it/s]\n",
      "9it [00:00, 9792.15it/s]\n",
      "0it [00:00, ?it/s]\n",
      "3it [00:00, 7480.92it/s]\n",
      "0it [00:00, ?it/s]\n",
      "3it [00:00, 5451.87it/s]\n",
      "0it [00:00, ?it/s]\n",
      "3it [00:00, 6710.89it/s]\n",
      "0it [00:00, ?it/s]\n",
      "3it [00:00, 5977.63it/s]\n",
      "0it [00:00, ?it/s]\n",
      "3it [00:00, 6171.12it/s]\n",
      "0it [00:00, ?it/s]\n",
      "3it [00:00, 3401.71it/s]\n"
     ]
    }
   ],
   "source": [
    "optimizer = arch_opt.Architecture_Optimizer(\n",
    "    S_target = sp.Matrix([[0,0],[1,0]]),\n",
    "    num_lossy_internal_modes=1,\n",
    ")\n",
    "optimizer.prepare_all_possible_combinations()\n",
    "for c in optimizer.unique_complexity_levels:\n",
    "    optimizer.find_valid_combinations(c)\n",
    "    optimizer.cleanup_valid_combinations()"
   ]
  },
  {
   "cell_type": "code",
   "execution_count": 10,
   "id": "dd60d7ed",
   "metadata": {},
   "outputs": [
    {
     "data": {
      "text/plain": [
       "[array([0., 1., 1., 0., 2., 0.]),\n",
       " array([0., 1., 2., 0., 1., 0.]),\n",
       " array([0., 2., 1., 0., 1., 0.])]"
      ]
     },
     "execution_count": 10,
     "metadata": {},
     "output_type": "execute_result"
    }
   ],
   "source": [
    "optimizer.valid_combinations"
   ]
  },
  {
   "cell_type": "code",
   "execution_count": null,
   "id": "61ef4d28",
   "metadata": {},
   "outputs": [],
   "source": []
  }
 ],
 "metadata": {
  "kernelspec": {
   "display_name": "jax",
   "language": "python",
   "name": "python3"
  },
  "language_info": {
   "codemirror_mode": {
    "name": "ipython",
    "version": 3
   },
   "file_extension": ".py",
   "mimetype": "text/x-python",
   "name": "python",
   "nbconvert_exporter": "python",
   "pygments_lexer": "ipython3",
   "version": "3.10.12"
  }
 },
 "nbformat": 4,
 "nbformat_minor": 5
}
