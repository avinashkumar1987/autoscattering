{
 "cells": [
  {
   "cell_type": "code",
   "execution_count": 1,
   "id": "2a9b9254",
   "metadata": {},
   "outputs": [],
   "source": [
    "# try to import library, if it is not installed it will be downloaded\n",
    "import os\n",
    "try:\n",
    "  import autoscattering\n",
    "except:\n",
    "  if not os.path.isdir('autoscattering'):\n",
    "    !git clone https://github.com/jlandgr/autoscattering.git\n",
    "    !mv autoscattering trash\n",
    "    !mv trash/autoscattering ."
   ]
  },
  {
   "cell_type": "code",
   "execution_count": 1,
   "metadata": {},
   "outputs": [],
   "source": [
    "import sympy as sp\n",
    "import jax\n",
    "jax.config.update(\"jax_enable_x64\", True)\n",
    "\n",
    "import matplotlib.pyplot as plt\n",
    "import autoscattering.architecture_optimizer as arch_opt\n",
    "import autoscattering.constraints as msc\n",
    "import autoscattering.symbolic as sym"
   ]
  },
  {
   "cell_type": "code",
   "execution_count": 2,
   "id": "0db02b23",
   "metadata": {},
   "outputs": [
    {
     "name": "stdout",
     "output_type": "stream",
     "text": [
      "target scattering matrix of an isolator:\n"
     ]
    },
    {
     "data": {
      "text/latex": [
       "$\\displaystyle \\left[\\begin{matrix}0 & 0\\\\1 & 0\\end{matrix}\\right]$"
      ],
      "text/plain": [
       "<IPython.core.display.Math object>"
      ]
     },
     "metadata": {},
     "output_type": "display_data"
    },
    {
     "name": "stdout",
     "output_type": "stream",
     "text": [
      "fully connected graph is a valid graph\n",
      "prepare list of all possible graphs\n"
     ]
    },
    {
     "name": "stderr",
     "output_type": "stream",
     "text": [
      "216it [00:00, 160008.77it/s]\n"
     ]
    },
    {
     "name": "stdout",
     "output_type": "stream",
     "text": [
      "216 graphs identified\n",
      "start depth-first search\n",
      "test all graphs with 9 degrees of freedom:\n"
     ]
    },
    {
     "name": "stderr",
     "output_type": "stream",
     "text": [
      "100%|██████████| 1/1 [00:00<00:00,  6.58it/s]\n"
     ]
    },
    {
     "name": "stdout",
     "output_type": "stream",
     "text": [
      "test all graphs with 8 degrees of freedom:\n"
     ]
    },
    {
     "name": "stderr",
     "output_type": "stream",
     "text": [
      "100%|██████████| 6/6 [00:00<00:00, 70.56it/s]\n"
     ]
    },
    {
     "name": "stdout",
     "output_type": "stream",
     "text": [
      "test all graphs with 7 degrees of freedom:\n"
     ]
    },
    {
     "name": "stderr",
     "output_type": "stream",
     "text": [
      "100%|██████████| 15/15 [00:00<00:00, 25.22it/s]\n"
     ]
    },
    {
     "name": "stdout",
     "output_type": "stream",
     "text": [
      "test all graphs with 6 degrees of freedom:\n"
     ]
    },
    {
     "name": "stderr",
     "output_type": "stream",
     "text": [
      "100%|██████████| 10/10 [00:00<00:00, 59.34it/s]\n"
     ]
    },
    {
     "name": "stdout",
     "output_type": "stream",
     "text": [
      "test all graphs with 5 degrees of freedom:\n"
     ]
    },
    {
     "name": "stderr",
     "output_type": "stream",
     "text": [
      "0it [00:00, ?it/s]\n"
     ]
    },
    {
     "name": "stdout",
     "output_type": "stream",
     "text": [
      "test all graphs with 4 degrees of freedom:\n"
     ]
    },
    {
     "name": "stderr",
     "output_type": "stream",
     "text": [
      "0it [00:00, ?it/s]\n"
     ]
    },
    {
     "name": "stdout",
     "output_type": "stream",
     "text": [
      "test all graphs with 3 degrees of freedom:\n"
     ]
    },
    {
     "name": "stderr",
     "output_type": "stream",
     "text": [
      "0it [00:00, ?it/s]\n"
     ]
    },
    {
     "name": "stdout",
     "output_type": "stream",
     "text": [
      "test all graphs with 2 degrees of freedom:\n"
     ]
    },
    {
     "name": "stderr",
     "output_type": "stream",
     "text": [
      "0it [00:00, ?it/s]\n"
     ]
    },
    {
     "name": "stdout",
     "output_type": "stream",
     "text": [
      "test all graphs with 1 degrees of freedom:\n"
     ]
    },
    {
     "name": "stderr",
     "output_type": "stream",
     "text": [
      "0it [00:00, ?it/s]"
     ]
    },
    {
     "name": "stdout",
     "output_type": "stream",
     "text": [
      "test all graphs with 0 degrees of freedom:\n"
     ]
    },
    {
     "name": "stderr",
     "output_type": "stream",
     "text": [
      "\n",
      "0it [00:00, ?it/s]"
     ]
    },
    {
     "name": "stdout",
     "output_type": "stream",
     "text": [
      "optimisation finished, list of irreducible graphs has 3 elements\n"
     ]
    },
    {
     "name": "stderr",
     "output_type": "stream",
     "text": [
      "\n"
     ]
    }
   ],
   "source": [
    "S_target = sp.Matrix([[0,0],[1,0]])\n",
    "print('target scattering matrix of an isolator:')\n",
    "sym.render(S_target)\n",
    "optimizer = arch_opt.Architecture_Optimizer(\n",
    "    S_target=sp.Matrix([[0,0],[1,0]]),\n",
    "    num_auxiliary_modes=1,\n",
    ")\n",
    "irreducible_graphs = optimizer.perform_depth_first_search()"
   ]
  },
  {
   "cell_type": "code",
   "execution_count": 3,
   "id": "dd60d7ed",
   "metadata": {},
   "outputs": [
    {
     "data": {
      "image/png": "[encoded data removed]",
      "text/plain": [
       "<Figure size 1250x250 with 5 Axes>"
      ]
     },
     "metadata": {},
     "output_type": "display_data"
    }
   ],
   "source": [
    "node_colors = ['orange', 'orange', 'gray'] # the port modes are orange, the auxiliary mode gray\n",
    "msc.plot_list_of_graphs(irreducible_graphs, node_colors=node_colors)"
   ]
  }
 ],
 "metadata": {
  "kernelspec": {
   "display_name": "jax",
   "language": "python",
   "name": "python3"
  },
  "language_info": {
   "codemirror_mode": {
    "name": "ipython",
    "version": 3
   },
   "file_extension": ".py",
   "mimetype": "text/x-python",
   "name": "python",
   "nbconvert_exporter": "python",
   "pygments_lexer": "ipython3",
   "version": "3.10.12"
  }
 },
 "nbformat": 4,
 "nbformat_minor": 5
}
