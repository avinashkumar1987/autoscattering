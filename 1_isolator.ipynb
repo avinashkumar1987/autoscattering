{
 "cells": [
  {
   "cell_type": "code",
   "execution_count": 1,
   "metadata": {},
   "outputs": [],
   "source": [
    "import sympy as sp\n",
    "import jax\n",
    "jax.config.update(\"jax_enable_x64\", True)\n",
    "\n",
    "import matplotlib.pyplot as plt\n",
    "import multimode_systems.architecture_optimizer_new as arch_opt\n",
    "import multimode_systems.constraints as msc"
   ]
  },
  {
   "cell_type": "code",
   "execution_count": 2,
   "id": "0db02b23",
   "metadata": {},
   "outputs": [
    {
     "name": "stdout",
     "output_type": "stream",
     "text": [
      "fully connected graph is a valid graph\n",
      "prepare list of all possible graphs\n"
     ]
    },
    {
     "name": "stderr",
     "output_type": "stream",
     "text": [
      "216it [00:00, 146549.61it/s]\n"
     ]
    },
    {
     "name": "stdout",
     "output_type": "stream",
     "text": [
      "216 graphs identified\n",
      "start depth-first search\n",
      "complexity level: 9\n"
     ]
    },
    {
     "name": "stderr",
     "output_type": "stream",
     "text": [
      "100%|██████████| 1/1 [00:00<00:00,  9.08it/s]\n"
     ]
    },
    {
     "name": "stdout",
     "output_type": "stream",
     "text": [
      "complexity level: 8\n"
     ]
    },
    {
     "name": "stderr",
     "output_type": "stream",
     "text": [
      "100%|██████████| 6/6 [00:00<00:00, 84.13it/s]\n"
     ]
    },
    {
     "name": "stdout",
     "output_type": "stream",
     "text": [
      "complexity level: 7\n"
     ]
    },
    {
     "name": "stderr",
     "output_type": "stream",
     "text": [
      "100%|██████████| 15/15 [00:00<00:00, 36.87it/s]\n"
     ]
    },
    {
     "name": "stdout",
     "output_type": "stream",
     "text": [
      "complexity level: 6\n"
     ]
    },
    {
     "name": "stderr",
     "output_type": "stream",
     "text": [
      "100%|██████████| 10/10 [00:00<00:00, 67.39it/s]\n"
     ]
    },
    {
     "name": "stdout",
     "output_type": "stream",
     "text": [
      "complexity level: 5\n"
     ]
    },
    {
     "name": "stderr",
     "output_type": "stream",
     "text": [
      "0it [00:00, ?it/s]\n"
     ]
    },
    {
     "name": "stdout",
     "output_type": "stream",
     "text": [
      "complexity level: 4\n"
     ]
    },
    {
     "name": "stderr",
     "output_type": "stream",
     "text": [
      "0it [00:00, ?it/s]\n"
     ]
    },
    {
     "name": "stdout",
     "output_type": "stream",
     "text": [
      "complexity level: 3\n"
     ]
    },
    {
     "name": "stderr",
     "output_type": "stream",
     "text": [
      "0it [00:00, ?it/s]\n"
     ]
    },
    {
     "name": "stdout",
     "output_type": "stream",
     "text": [
      "complexity level: 2\n"
     ]
    },
    {
     "name": "stderr",
     "output_type": "stream",
     "text": [
      "0it [00:00, ?it/s]\n"
     ]
    },
    {
     "name": "stdout",
     "output_type": "stream",
     "text": [
      "complexity level: 1\n"
     ]
    },
    {
     "name": "stderr",
     "output_type": "stream",
     "text": [
      "0it [00:00, ?it/s]\n"
     ]
    },
    {
     "name": "stdout",
     "output_type": "stream",
     "text": [
      "complexity level: 0\n"
     ]
    },
    {
     "name": "stderr",
     "output_type": "stream",
     "text": [
      "0it [00:00, ?it/s]"
     ]
    },
    {
     "name": "stdout",
     "output_type": "stream",
     "text": [
      "optimisation finished, list of irreducible graphs has 3 elements\n"
     ]
    },
    {
     "name": "stderr",
     "output_type": "stream",
     "text": [
      "\n"
     ]
    }
   ],
   "source": [
    "optimizer = arch_opt.Architecture_Optimizer(\n",
    "    S_target = sp.Matrix([[0,0],[1,0]]),\n",
    "    num_auxiliary_modes=1,\n",
    ")\n",
    "irreducible_graphs = optimizer.perform_depth_first_search()"
   ]
  },
  {
   "cell_type": "code",
   "execution_count": 3,
   "id": "dd60d7ed",
   "metadata": {},
   "outputs": [
    {
     "data": {
      "image/png": "[encoded data removed]",
      "text/plain": [
       "<Figure size 1250x250 with 5 Axes>"
      ]
     },
     "metadata": {},
     "output_type": "display_data"
    }
   ],
   "source": [
    "node_colors = ['orange', 'orange', 'gray'] # the port modes are orange, the auxiliary mode gray\n",
    "msc.plot_list_of_graphs(irreducible_graphs, node_colors=node_colors)"
   ]
  },
  {
   "cell_type": "code",
   "execution_count": 7,
   "metadata": {},
   "outputs": [],
   "source": [
    "optimizer = arch_opt.Architecture_Optimizer(\n",
    "    S_target = sp.Matrix([[0,0,1],[1,0,0],[0,1,0]]),\n",
    "    num_auxiliary_modes=0,\n",
    "    make_initial_test=False\n",
    ")\n",
    "# irreducible_graphs = optimizer.perform_depth_first_search()"
   ]
  },
  {
   "cell_type": "code",
   "execution_count": 15,
   "id": "39f5afb2",
   "metadata": {},
   "outputs": [
    {
     "data": {
      "text/plain": [
       "array([-0.66073301,  0.34407834, -0.49591842, -0.0468692 ,  0.378649  ,\n",
       "        0.49821961, -1.09825294,  2.27809167,  1.70413754,  3.11583023,\n",
       "       -2.4831373 , -0.32405367])"
      ]
     },
     "execution_count": 15,
     "metadata": {},
     "output_type": "execute_result"
    }
   ],
   "source": [
    "initial_guess, _ = optimizer.create_initial_guess([])\n",
    "initial_guess"
   ]
  },
  {
   "cell_type": "code",
   "execution_count": 14,
   "id": "61664894",
   "metadata": {},
   "outputs": [
    {
     "ename": "TypeError",
     "evalue": "_lambdifygenerated() missing 1 required positional argument: 'epsilon'",
     "output_type": "error",
     "traceback": [
      "\u001b[0;31m---------------------------------------------------------------------------\u001b[0m",
      "\u001b[0;31mTypeError\u001b[0m                                 Traceback (most recent call last)",
      "Cell \u001b[0;32mIn[14], line 1\u001b[0m\n\u001b[0;32m----> 1\u001b[0m \u001b[43moptimizer\u001b[49m\u001b[38;5;241;43m.\u001b[39;49m\u001b[43mconditions_func\u001b[49m\u001b[43m(\u001b[49m\u001b[43minitial_guess\u001b[49m\u001b[43m)\u001b[49m\n",
      "    \u001b[0;31m[... skipping hidden 11 frame]\u001b[0m\n",
      "File \u001b[0;32m~/Desktop/Arbeit/Artificial_Discovery/prepare_git_version/multimode_systems/architecture_optimizer_new.py:380\u001b[0m, in \u001b[0;36mArchitecture_Optimizer.__initialize_conditions_func__.<locals>.calc_conditions\u001b[0;34m(input_array)\u001b[0m\n\u001b[1;32m    379\u001b[0m \u001b[38;5;28;01mdef\u001b[39;00m \u001b[38;5;21mcalc_conditions\u001b[39m(input_array):\n\u001b[0;32m--> 380\u001b[0m     scattering_matrix_target \u001b[38;5;241m=\u001b[39m \u001b[43mcalc_target_scattering_matrix\u001b[49m\u001b[43m(\u001b[49m\u001b[43minput_array\u001b[49m\u001b[43m)\u001b[49m\n\u001b[1;32m    381\u001b[0m     coupling_matrix \u001b[38;5;241m=\u001b[39m \u001b[38;5;28mself\u001b[39m\u001b[38;5;241m.\u001b[39mcoupling_matrix_effective(input_array)\n\u001b[1;32m    382\u001b[0m     kappa_int_matrix \u001b[38;5;241m=\u001b[39m \u001b[38;5;28mself\u001b[39m\u001b[38;5;241m.\u001b[39mkappa_int_matrix_jax(\u001b[38;5;241m*\u001b[39minput_array)\n",
      "File \u001b[0;32m~/Desktop/Arbeit/Artificial_Discovery/prepare_git_version/multimode_systems/architecture_optimizer_new.py:374\u001b[0m, in \u001b[0;36mArchitecture_Optimizer.__initialize_conditions_func__.<locals>.calc_target_scattering_matrix\u001b[0;34m(input_array)\u001b[0m\n\u001b[1;32m    373\u001b[0m \u001b[38;5;28;01mdef\u001b[39;00m \u001b[38;5;21mcalc_target_scattering_matrix\u001b[39m(input_array):\n\u001b[0;32m--> 374\u001b[0m     \u001b[38;5;28;01mreturn\u001b[39;00m jnp\u001b[38;5;241m.\u001b[39mmultiply(\u001b[38;5;28;43mself\u001b[39;49m\u001b[38;5;241;43m.\u001b[39;49m\u001b[43mS_target_jax\u001b[49m\u001b[43m(\u001b[49m\u001b[38;5;241;43m*\u001b[39;49m\u001b[43minput_array\u001b[49m\u001b[43m)\u001b[49m, \u001b[38;5;28mself\u001b[39m\u001b[38;5;241m.\u001b[39mgauge_matrix_jax(\u001b[38;5;241m*\u001b[39minput_array))\n",
      "\u001b[0;31mTypeError\u001b[0m: _lambdifygenerated() missing 1 required positional argument: 'epsilon'"
     ]
    }
   ],
   "source": [
    "optimizer.conditions_func(initial_guess)"
   ]
  },
  {
   "cell_type": "code",
   "execution_count": null,
   "id": "4a8db3eb",
   "metadata": {},
   "outputs": [],
   "source": []
  }
 ],
 "metadata": {
  "kernelspec": {
   "display_name": "jax",
   "language": "python",
   "name": "python3"
  },
  "language_info": {
   "codemirror_mode": {
    "name": "ipython",
    "version": 3
   },
   "file_extension": ".py",
   "mimetype": "text/x-python",
   "name": "python",
   "nbconvert_exporter": "python",
   "pygments_lexer": "ipython3",
   "version": "3.10.12"
  }
 },
 "nbformat": 4,
 "nbformat_minor": 5
}
