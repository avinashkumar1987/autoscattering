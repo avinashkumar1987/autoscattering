{
 "cells": [
  {
   "cell_type": "code",
   "execution_count": 1,
   "metadata": {},
   "outputs": [],
   "source": [
    "import sympy as sp\n",
    "import numpy as np\n",
    "import jax\n",
    "import jax.numpy as jnp\n",
    "jax.config.update(\"jax_enable_x64\", True)\n",
    "\n",
    "import matplotlib.pyplot as plt\n",
    "import multimode_systems.architecture_optimizer_new as arch_opt\n",
    "import multimode_systems.constraints as msc\n",
    "import multimode_systems.symbolic as sym\n",
    "np.set_printoptions(linewidth=200)"
   ]
  },
  {
   "cell_type": "markdown",
   "metadata": {},
   "source": [
    "In this example we reproduce the fully directional phase-preserving and quantum-limited amplifiers shown in Fig. 2(c) in our article [arxiv:2404.14887](https://arxiv.org/abs/2404.14887)\n",
    "\n",
    "This example is motived by the work of [Liu et al.](https://journals.aps.org/prapplied/abstract/10.1103/PhysRevApplied.21.014021)\n",
    "\n",
    "The goal is to design an amplifier which, which amplifies incoming signal by a factor of $G$, but has no backscattering at the input or output port. There should be no scattering from the output to the input port as the output port is connected to a room-temperature batch.\n",
    "This corresponds to the target scattering matrix: $S_\\mathrm{target} = \\begin{pmatrix} 0&0\\\\ \\sqrt{G} & 0 \\end{pmatrix}$\n",
    "\n",
    "Furthermore, the noise at the input and output ports should be at their respective quantum limits. The number of added noise photons at the input (mode 1) and output (mode 2) port can be computed at resonance ($\\omega=0$) by:\n",
    "$\n",
    "\\begin{align}\n",
    "    N_\\mathrm{input}^\\mathrm{add}=\\frac{1}{2} \\sum_{k} \\left( (n_k^\\mathrm{in}+1) |S_{1k}|^2 + (n_k^\\mathrm{noise}+1) |\\mathcal{N}_{1k}|^2 \\right) \\\\\n",
    "    N_\\mathrm{output}^\\mathrm{add}=\\frac{1}{2} \\sum_{k\\neq 1} \\left( (n_k^\\mathrm{in}+1) |S_{2k}|^2 + (n_k^\\mathrm{noise}+1) |\\mathcal{N}_{2k}|^2 \\right)\n",
    "\\end{align}\n",
    "$\n",
    "$S_{ij}$ are the elements of the full scattering matrix which includes the scattering from and to the auxiliary modes. $\\mathcal{N}_{ij}$ describes the linear response to fluctuations entering from the intrinsic loss channels at the port modes.\n",
    "$n_k^\\mathrm{in}$ and $n_k^\\mathrm{noise}$ are the occupation numbers of the baths connected to the respective modes. We assume that all the baths are at zero temperature, except the bath connected to the output channel. So, $n_j^\\mathrm{in}=0$ if $j\\neq 2$, $n_j^\\mathrm{noise}=0$ for all $j$, and $n_2^\\mathrm{in} > 0$.\n",
    "\n",
    "The quantum limit for a phase-preserving amplifiers is $N_\\mathrm{input}^\\mathrm{add}=1/2$ and $N_\\mathrm{output}^\\mathrm{add}=(G-1)/2$ (see [A. A. Clerk et al.](https://journals.aps.org/rmp/abstract/10.1103/RevModPhys.82.1155)). The value for $N_\\mathrm{output}^\\mathrm{add}$ can only be achieved if input and output mode are corotating. If they are counterrotating the commuation relations lead to additional photon, so such an amplifier can at best achieve $N_\\mathrm{output}^\\mathrm{add}=(G+1)/2$.\n",
    "\n",
    "The quantum limit condition can not be directly expressed using a target scattering matrix. Instead, we define an extra constraints ($f_j$ in Equ. (1) in [arxiv:2404.14887](https://arxiv.org/abs/2404.14887)).\n",
    "\n",
    "Please check [arxiv:2404.14887](https://arxiv.org/abs/2404.14887) for further details."
   ]
  },
  {
   "cell_type": "markdown",
   "metadata": {},
   "source": [
    "In the following we define these extra constraints."
   ]
  },
  {
   "cell_type": "code",
   "execution_count": 2,
   "metadata": {},
   "outputs": [],
   "source": [
    "class MinimalAddedInputNoise(msc.Base_Constraint):\n",
    "    def __call__(self, scattering_matrix, coupling_matrix, kappa_int_matrix):\n",
    "        '''\n",
    "        calculates the difference between the number of added input photons and the quantum limit\n",
    "\n",
    "        input arguments:\n",
    "        scattering matrix: full scattering matrix for the current parameter set, this also includes the scattering from and to the auxiliary modes\n",
    "        coupling matrix: dimensionless coupling matrix (sigma_z @ H in our equations) for the current parameter set, this constraint does not make any use of the coupling matrix\n",
    "        kappa_int_matrix: diagonal matrix with the dimensionless intrinsic loss rates on the diagonal\n",
    "        '''\n",
    "\n",
    "        # calculate the linear response to fluctuations entering from the intrinsic loss channels (\\mathcal{N} in the equations above)\n",
    "        noise_matrix = (scattering_matrix - jnp.eye(scattering_matrix.shape[0])) @ jnp.complex_(jnp.sqrt(kappa_int_matrix))\n",
    "\n",
    "        # calculate number of added photons at the input port, already considers that the target scattering matrix will be enforced\n",
    "        total_noise = 1/2 * (jnp.sum(jnp.abs(scattering_matrix[0,2:])**2) + jnp.sum(jnp.abs(noise_matrix[0,:])**2))\n",
    "        quantum_limit = 1/2\n",
    "        return total_noise-quantum_limit\n",
    "\n",
    "class MinimalAddedOutputNoise(msc.Base_Constraint):\n",
    "    def __init__(self, Gval, input_output_corotating):\n",
    "        '''\n",
    "        Gval: target gain value\n",
    "        input_output_corotating: True if input and output are corotating, False if they are counterrotating. In later case the minimum number of added photons is larger one photon.\n",
    "        '''\n",
    "        self.Gval = Gval\n",
    "        self.input_output_corotating = input_output_corotating\n",
    "\n",
    "    def __call__(self, scattering_matrix, coupling_matrix, kappa_int_matrix):\n",
    "        '''\n",
    "        calculates the difference between the number of added output photons and the quantum limit\n",
    "\n",
    "        input arguments:\n",
    "        scattering matrix: full scattering matrix for the current parameter set, this also includes the scattering from and to the auxiliary modes\n",
    "        coupling matrix: dimensionless coupling matrix (sigma_z @ H in our equations) for the current parameter set, this constraint does not make any use of the coupling matrix\n",
    "        kappa_int_matrix: diagonal matrix with the dimensionless intrinsic loss rates on the diagonal\n",
    "        '''\n",
    "\n",
    "        # calculate the linear response to fluctuations entering from the intrinsic loss channels (\\mathcal{N} in the equations above)\n",
    "        noise_matrix = (scattering_matrix - jnp.eye(scattering_matrix.shape[0])) @ jnp.complex_(jnp.sqrt(kappa_int_matrix))\n",
    "\n",
    "        # calculate number of added photons at the output port, already considers that the target scattering matrix will be enforced\n",
    "        total_noise = 1/2 * (jnp.sum(jnp.abs(scattering_matrix[1,2:])**2) + jnp.sum(jnp.abs(noise_matrix[1,:])**2))\n",
    "\n",
    "        if self.input_output_corotating:\n",
    "            quantum_limit = (self.Gval - 1)/2\n",
    "        else:\n",
    "            quantum_limit = (self.Gval + 1)/2\n",
    "\n",
    "        return total_noise-quantum_limit\n"
   ]
  },
  {
   "cell_type": "markdown",
   "metadata": {},
   "source": [
    "To achieve amplification squeezing interactions are required. As described in Appendix E, we focus on phase-preserving applications. Therefore, we can divide our mode sets into two subsets $M_1$ (particles) and $M_2$ (holes). Modes within the same subset are corotating and are exclusively coupled via beamsplitter interactions, modes in different subsets are counterrotating and are exclusively coupled via squeezing interactions. Which modes are part of which subset is controlled by the keyword argument mode_types. This is a list whose length equals the number of modes considered. An entry True means that a mode is a particle, False that it is a hole. All possible systems fulfill particle-hole symmetry, meaning that exchanging all particles by holes and vice versa, leads the same scattering behaviour (besides a complex conjugation of the scattering matrix)."
   ]
  },
  {
   "cell_type": "markdown",
   "metadata": {},
   "source": [
    "In the following, we design the amplifiers with the target behaviour described above. We restrict ourselves to the building blocks used in [Liu et al.](https://journals.aps.org/prapplied/abstract/10.1103/PhysRevApplied.21.014021). This excludes intrinsic loss channels for the input and output mode.\n",
    "\n",
    "We have to try out all possible combinations of particles and holes. However, considering particle-hole symmetry and that the system is symmetric with respect to exchange of auxiliary modes, reduces the amount of combinations.\n",
    "\n",
    "Spoiler: At least 2 auxiliary modes are required leaving the following combinations for testing:\n",
    "- [True, True, True, True] # does not offer any squeezing interactions and will therefore not provide amplification\n",
    "- [False, True, True, True] # fully connected graph is invalid\n",
    "- [True, False, True, True] # fully connected graph is invalid\n",
    "- [True, True, False, True] # finds Graph (I), (II) and (UI). Graph (UI) is unstable and only discussed in the Supplemental Material\n",
    "- [False, False, True, True] # fully connected graph is invalid\n",
    "- [True, False, False, True] # finds Graph (III), (IV) and (UII). Graph (UII) is unstable and only discussed in the Supplemental Material"
   ]
  },
  {
   "cell_type": "code",
   "execution_count": 3,
   "metadata": {},
   "outputs": [
    {
     "name": "stdout",
     "output_type": "stream",
     "text": [
      "fully connected graph is a valid graph\n"
     ]
    }
   ],
   "source": [
    "Gval = 3. # target gain value\n",
    "mode_types = [True, True, False, True] # defines whether modes are co- or counterrotating \n",
    "S_target = sp.Matrix([[0,0],[np.sqrt(Gval),0]])\n",
    "enforced_constraints = [MinimalAddedInputNoise(), MinimalAddedOutputNoise(Gval=Gval, input_output_corotating=mode_types[0]==mode_types[1])]\n",
    "\n",
    "optimizer = arch_opt.Architecture_Optimizer(\n",
    "    S_target=S_target,\n",
    "    num_auxiliary_modes=2,\n",
    "    mode_types=mode_types,\n",
    "    port_intrinsic_losses=False, # no intrinsic losses on the port modes, this is also the default option\n",
    "    enforced_constraints=enforced_constraints, # enforces quantum limited noise for input and output port, default is an empty list\n",
    "    kwargs_optimization={'num_tests': 30}, # to reduce the risk of false negative classifications, we increase the number of tries till a graph is labeled is invalid\n",
    "    solver_options={'maxiter': 2000}\n",
    ")"
   ]
  },
  {
   "cell_type": "code",
   "execution_count": 4,
   "metadata": {},
   "outputs": [
    {
     "name": "stdout",
     "output_type": "stream",
     "text": [
      "prepare list of all possible graphs\n"
     ]
    },
    {
     "name": "stderr",
     "output_type": "stream",
     "text": [
      "3456it [00:00, 481051.16it/s]\n"
     ]
    },
    {
     "name": "stdout",
     "output_type": "stream",
     "text": [
      "3456 graphs identified\n",
      "start depth-first search\n",
      "test all graphs with 16 degrees of freedom:\n"
     ]
    },
    {
     "name": "stderr",
     "output_type": "stream",
     "text": [
      "  0%|          | 0/1 [00:00<?, ?it/s]"
     ]
    },
    {
     "name": "stderr",
     "output_type": "stream",
     "text": [
      "100%|██████████| 1/1 [00:00<00:00,  4.60it/s]\n"
     ]
    },
    {
     "name": "stdout",
     "output_type": "stream",
     "text": [
      "test all graphs with 15 degrees of freedom:\n"
     ]
    },
    {
     "name": "stderr",
     "output_type": "stream",
     "text": [
      "100%|██████████| 7/7 [00:01<00:00,  5.84it/s]\n"
     ]
    },
    {
     "name": "stdout",
     "output_type": "stream",
     "text": [
      "test all graphs with 14 degrees of freedom:\n"
     ]
    },
    {
     "name": "stderr",
     "output_type": "stream",
     "text": [
      "100%|██████████| 27/27 [00:14<00:00,  1.88it/s]\n"
     ]
    },
    {
     "name": "stdout",
     "output_type": "stream",
     "text": [
      "test all graphs with 13 degrees of freedom:\n"
     ]
    },
    {
     "name": "stderr",
     "output_type": "stream",
     "text": [
      "100%|██████████| 66/66 [00:06<00:00, 10.31it/s]\n"
     ]
    },
    {
     "name": "stdout",
     "output_type": "stream",
     "text": [
      "test all graphs with 12 degrees of freedom:\n"
     ]
    },
    {
     "name": "stderr",
     "output_type": "stream",
     "text": [
      "100%|██████████| 129/129 [00:42<00:00,  3.04it/s]\n"
     ]
    },
    {
     "name": "stdout",
     "output_type": "stream",
     "text": [
      "test all graphs with 11 degrees of freedom:\n"
     ]
    },
    {
     "name": "stderr",
     "output_type": "stream",
     "text": [
      "100%|██████████| 148/148 [00:44<00:00,  3.30it/s]\n"
     ]
    },
    {
     "name": "stdout",
     "output_type": "stream",
     "text": [
      "test all graphs with 10 degrees of freedom:\n"
     ]
    },
    {
     "name": "stderr",
     "output_type": "stream",
     "text": [
      "100%|██████████| 99/99 [00:03<00:00, 30.35it/s]\n"
     ]
    },
    {
     "name": "stdout",
     "output_type": "stream",
     "text": [
      "test all graphs with 9 degrees of freedom:\n"
     ]
    },
    {
     "name": "stderr",
     "output_type": "stream",
     "text": [
      "100%|██████████| 27/27 [00:00<00:00, 43.75it/s]\n"
     ]
    },
    {
     "name": "stdout",
     "output_type": "stream",
     "text": [
      "test all graphs with 8 degrees of freedom:\n"
     ]
    },
    {
     "name": "stderr",
     "output_type": "stream",
     "text": [
      "0it [00:00, ?it/s]\n"
     ]
    },
    {
     "name": "stdout",
     "output_type": "stream",
     "text": [
      "test all graphs with 7 degrees of freedom:\n"
     ]
    },
    {
     "name": "stderr",
     "output_type": "stream",
     "text": [
      "0it [00:00, ?it/s]\n"
     ]
    },
    {
     "name": "stdout",
     "output_type": "stream",
     "text": [
      "test all graphs with 6 degrees of freedom:\n"
     ]
    },
    {
     "name": "stderr",
     "output_type": "stream",
     "text": [
      "0it [00:00, ?it/s]\n"
     ]
    },
    {
     "name": "stdout",
     "output_type": "stream",
     "text": [
      "test all graphs with 5 degrees of freedom:\n"
     ]
    },
    {
     "name": "stderr",
     "output_type": "stream",
     "text": [
      "0it [00:00, ?it/s]\n"
     ]
    },
    {
     "name": "stdout",
     "output_type": "stream",
     "text": [
      "test all graphs with 4 degrees of freedom:\n"
     ]
    },
    {
     "name": "stderr",
     "output_type": "stream",
     "text": [
      "0it [00:00, ?it/s]\n"
     ]
    },
    {
     "name": "stdout",
     "output_type": "stream",
     "text": [
      "test all graphs with 3 degrees of freedom:\n"
     ]
    },
    {
     "name": "stderr",
     "output_type": "stream",
     "text": [
      "0it [00:00, ?it/s]\n"
     ]
    },
    {
     "name": "stdout",
     "output_type": "stream",
     "text": [
      "test all graphs with 2 degrees of freedom:\n"
     ]
    },
    {
     "name": "stderr",
     "output_type": "stream",
     "text": [
      "0it [00:00, ?it/s]\n"
     ]
    },
    {
     "name": "stdout",
     "output_type": "stream",
     "text": [
      "test all graphs with 1 degrees of freedom:\n"
     ]
    },
    {
     "name": "stderr",
     "output_type": "stream",
     "text": [
      "0it [00:00, ?it/s]\n"
     ]
    },
    {
     "name": "stdout",
     "output_type": "stream",
     "text": [
      "test all graphs with 0 degrees of freedom:\n"
     ]
    },
    {
     "name": "stderr",
     "output_type": "stream",
     "text": [
      "0it [00:00, ?it/s]"
     ]
    },
    {
     "name": "stdout",
     "output_type": "stream",
     "text": [
      "optimisation finished, list of irreducible graphs has 7 elements\n"
     ]
    },
    {
     "name": "stderr",
     "output_type": "stream",
     "text": [
      "\n"
     ]
    }
   ],
   "source": [
    "list_of_irreducible_graphs = optimizer.perform_depth_first_search()"
   ]
  },
  {
   "cell_type": "code",
   "execution_count": 5,
   "metadata": {},
   "outputs": [
    {
     "data": {
      "image/png": "[encoded data removed]",
      "text/plain": [
       "<Figure size 1250x500 with 10 Axes>"
      ]
     },
     "metadata": {},
     "output_type": "display_data"
    }
   ],
   "source": [
    "node_colors = ['orange', 'red', 'gray', 'gray'] # the input is orange, the output red, the auxiliary modes are gray\n",
    "node_positions = [[-1,0],[0,1],[0,0.5],[1,0]]\n",
    "msc.plot_list_of_graphs(list_of_irreducible_graphs, mode_types=mode_types, positions=node_positions, node_colors=node_colors)"
   ]
  },
  {
   "cell_type": "markdown",
   "metadata": {},
   "source": [
    "In the following we will allow for intrinsic losses on the port modes. This building block was not considered in [Liu et al.](https://journals.aps.org/prapplied/abstract/10.1103/PhysRevApplied.21.014021).\n",
    "\n",
    "Spoiler: 1 auxiliary mode will be suifficient leaving the combinations:\n",
    "- [True, True, True] # does not provide squeezing\n",
    "- [False, True, True] # fully connected graph is invalid\n",
    "- [True, False, True] # finds Graph (V)\n",
    "- [True, True, False] # fully connected graph is invalid"
   ]
  },
  {
   "cell_type": "code",
   "execution_count": 4,
   "metadata": {},
   "outputs": [
    {
     "name": "stdout",
     "output_type": "stream",
     "text": [
      "fully connected graph is a valid graph\n"
     ]
    }
   ],
   "source": [
    "\n",
    "Gval = 3. # target gain value\n",
    "mode_types = [True, False, True] # defines whether modes are co- or counterrotating \n",
    "S_target = sp.Matrix([[0,0],[np.sqrt(Gval),0]])\n",
    "enforced_constraints = [MinimalAddedInputNoise(), MinimalAddedOutputNoise(Gval=Gval, input_output_corotating=mode_types[0]==mode_types[1])]\n",
    "\n",
    "optimizer = arch_opt.Architecture_Optimizer(\n",
    "    S_target=S_target,\n",
    "    num_auxiliary_modes=1,\n",
    "    mode_types=mode_types,\n",
    "    port_intrinsic_losses=True, # allows an additional intrinsic loss channel for input and output port\n",
    "    enforced_constraints=enforced_constraints, # enforces quantum limited noise for input and output port, default is an empty list\n",
    "    kwargs_optimization={'num_tests': 30}, # to reduce the risk of false negative classifications, we increase the number of tries till a graph is labeled is invalid\n",
    "    solver_options={'maxiter': 2000},\n",
    "    make_initial_test=True\n",
    ")"
   ]
  },
  {
   "cell_type": "code",
   "execution_count": 5,
   "metadata": {},
   "outputs": [
    {
     "name": "stdout",
     "output_type": "stream",
     "text": [
      "prepare list of all possible graphs\n"
     ]
    },
    {
     "name": "stderr",
     "output_type": "stream",
     "text": [
      "96it [00:00, 46787.50it/s]\n"
     ]
    },
    {
     "name": "stdout",
     "output_type": "stream",
     "text": [
      "96 graphs identified\n",
      "start depth-first search\n",
      "test all graphs with 9 degrees of freedom:\n"
     ]
    },
    {
     "name": "stderr",
     "output_type": "stream",
     "text": [
      "  0%|          | 0/1 [00:00<?, ?it/s]"
     ]
    },
    {
     "name": "stderr",
     "output_type": "stream",
     "text": [
      "100%|██████████| 1/1 [00:00<00:00,  5.86it/s]\n"
     ]
    },
    {
     "name": "stdout",
     "output_type": "stream",
     "text": [
      "test all graphs with 8 degrees of freedom:\n"
     ]
    },
    {
     "name": "stderr",
     "output_type": "stream",
     "text": [
      "100%|██████████| 4/4 [00:00<00:00, 64.47it/s]\n"
     ]
    },
    {
     "name": "stdout",
     "output_type": "stream",
     "text": [
      "test all graphs with 7 degrees of freedom:\n"
     ]
    },
    {
     "name": "stderr",
     "output_type": "stream",
     "text": [
      "100%|██████████| 6/6 [00:01<00:00,  3.35it/s]\n"
     ]
    },
    {
     "name": "stdout",
     "output_type": "stream",
     "text": [
      "test all graphs with 6 degrees of freedom:\n"
     ]
    },
    {
     "name": "stderr",
     "output_type": "stream",
     "text": [
      "0it [00:00, ?it/s]\n"
     ]
    },
    {
     "name": "stdout",
     "output_type": "stream",
     "text": [
      "test all graphs with 5 degrees of freedom:\n"
     ]
    },
    {
     "name": "stderr",
     "output_type": "stream",
     "text": [
      "0it [00:00, ?it/s]\n"
     ]
    },
    {
     "name": "stdout",
     "output_type": "stream",
     "text": [
      "test all graphs with 4 degrees of freedom:\n"
     ]
    },
    {
     "name": "stderr",
     "output_type": "stream",
     "text": [
      "0it [00:00, ?it/s]\n"
     ]
    },
    {
     "name": "stdout",
     "output_type": "stream",
     "text": [
      "test all graphs with 3 degrees of freedom:\n"
     ]
    },
    {
     "name": "stderr",
     "output_type": "stream",
     "text": [
      "0it [00:00, ?it/s]\n"
     ]
    },
    {
     "name": "stdout",
     "output_type": "stream",
     "text": [
      "test all graphs with 2 degrees of freedom:\n"
     ]
    },
    {
     "name": "stderr",
     "output_type": "stream",
     "text": [
      "0it [00:00, ?it/s]\n"
     ]
    },
    {
     "name": "stdout",
     "output_type": "stream",
     "text": [
      "test all graphs with 1 degrees of freedom:\n"
     ]
    },
    {
     "name": "stderr",
     "output_type": "stream",
     "text": [
      "0it [00:00, ?it/s]\n"
     ]
    },
    {
     "name": "stdout",
     "output_type": "stream",
     "text": [
      "test all graphs with 0 degrees of freedom:\n"
     ]
    },
    {
     "name": "stderr",
     "output_type": "stream",
     "text": [
      "0it [00:00, ?it/s]"
     ]
    },
    {
     "name": "stdout",
     "output_type": "stream",
     "text": [
      "optimisation finished, list of irreducible graphs has 1 elements\n"
     ]
    },
    {
     "name": "stderr",
     "output_type": "stream",
     "text": [
      "\n"
     ]
    }
   ],
   "source": [
    "list_of_irreducible_graphs = optimizer.perform_depth_first_search()"
   ]
  },
  {
   "cell_type": "code",
   "execution_count": 6,
   "metadata": {},
   "outputs": [
    {
     "data": {
      "image/png": "[encoded data removed]",
      "text/plain": [
       "<Figure size 1250x250 with 5 Axes>"
      ]
     },
     "metadata": {},
     "output_type": "display_data"
    }
   ],
   "source": [
    "node_colors = ['orange', 'red', 'gray'] # the input is orange, the output red, the auxiliary modes are gray\n",
    "node_positions = [[-1,0],[0,1],[1,0]]\n",
    "msc.plot_list_of_graphs(list_of_irreducible_graphs, mode_types=mode_types, positions=node_positions, node_colors=node_colors)"
   ]
  },
  {
   "cell_type": "markdown",
   "metadata": {},
   "source": [
    "In the following we analyse and generalise Graph (V) detected by the previous cells. So far, we always kept the gain value fixed. However, we want to find the general behaviour for arbitrary gain values. Playing around with the gain value, it is easy to see, that the cooperativities equal $C_{0,1}=C_{1,2}=G$ and $C_{0,2}=1$ and the dimensionless intrinsic loss rates equal $\\gamma_0=0$ and $\\gamma_1=G+1$."
   ]
  },
  {
   "cell_type": "code",
   "execution_count": 8,
   "metadata": {},
   "outputs": [
    {
     "name": "stdout",
     "output_type": "stream",
     "text": [
      "optimisation was successful: True\n"
     ]
    },
    {
     "data": {
      "text/plain": [
       "{'C_{0,1}': 5.00019455411924,\n",
       " 'C_{0,2}': 1.0000272762398474,\n",
       " 'C_{1,2}': 4.999998147673209,\n",
       " '\\\\gamma_0': 1.4425906343896947e-06,\n",
       " '\\\\gamma_1': 6.000034428663747}"
      ]
     },
     "execution_count": 8,
     "metadata": {},
     "output_type": "execute_result"
    }
   ],
   "source": [
    "Gval = 5. # target gain value\n",
    "mode_types = [True, False, True] # defines whether modes are co- or counterrotating \n",
    "\n",
    "optimizer = arch_opt.Architecture_Optimizer(\n",
    "    S_target=sp.Matrix([[0,0],[np.sqrt(Gval),0]]),\n",
    "    num_auxiliary_modes=1,\n",
    "    mode_types=mode_types,\n",
    "    port_intrinsic_losses=True, # allows an additional intrinsic loss channel for input and output port\n",
    "    enforced_constraints=[MinimalAddedInputNoise(), MinimalAddedOutputNoise(Gval=Gval, input_output_corotating=mode_types[0]==mode_types[1])],\n",
    "    kwargs_optimization={'num_tests': 30}, # to reduce the risk of false negative classifications, we increase the number of tries till a graph is labeled is invalid\n",
    "    solver_options={'maxiter': 2000},\n",
    "    make_initial_test=False\n",
    ")\n",
    "\n",
    "success, infos, _ = optimizer.repeated_optimization(triu_matrix=list_of_irreducible_graphs[0], **optimizer.kwargs_optimization, **optimizer.solver_options)\n",
    "print('optimisation was successful:', success)\n",
    "infos[-1]['parameters_for_analysis']"
   ]
  },
  {
   "cell_type": "code",
   "execution_count": 11,
   "metadata": {},
   "outputs": [
    {
     "name": "stdout",
     "output_type": "stream",
     "text": [
      "optimisation was successful: True\n",
      "optimisation was successful: True\n",
      "optimisation was successful: True\n",
      "optimisation was successful: True\n",
      "optimisation was successful: True\n",
      "optimisation was successful: True\n",
      "optimisation was successful: True\n",
      "optimisation was successful: True\n",
      "optimisation was successful: True\n",
      "optimisation was successful: True\n",
      "optimisation was successful: True\n",
      "optimisation was successful: True\n",
      "optimisation was successful: True\n",
      "optimisation was successful: True\n",
      "optimisation was successful: True\n",
      "optimisation was successful: True\n",
      "optimisation was successful: True\n",
      "optimisation was successful: True\n",
      "optimisation was successful: True\n",
      "optimisation was successful: True\n"
     ]
    }
   ],
   "source": [
    "Gvals = np.linspace(1.1, 5., 20)\n",
    "list_C01 = []\n",
    "list_C02 = []\n",
    "list_C12 = []\n",
    "list_gamma0 = []\n",
    "list_gamma1 = []\n",
    "\n",
    "for Gval in Gvals:\n",
    "    optimizer = arch_opt.Architecture_Optimizer(\n",
    "        S_target=sp.Matrix([[0,0],[np.sqrt(Gval),0]]),\n",
    "        num_auxiliary_modes=1,\n",
    "        mode_types=[True, False, True], # defines whether modes are co- or counterrotating\n",
    "        port_intrinsic_losses=True, # allows an additional intrinsic loss channel for input and output port\n",
    "        enforced_constraints=[MinimalAddedInputNoise(), MinimalAddedOutputNoise(Gval=Gval, input_output_corotating=mode_types[0]==mode_types[1])],\n",
    "        kwargs_optimization={'num_tests': 30}, # to reduce the risk of false negative classifications, we increase the number of tries till a graph is labeled is invalid\n",
    "        solver_options={'maxiter': 2000},\n",
    "        make_initial_test=False\n",
    "    )\n",
    "\n",
    "    success, infos, _ = optimizer.repeated_optimization(triu_matrix=list_of_irreducible_graphs[0], **optimizer.kwargs_optimization, **optimizer.solver_options)\n",
    "    print('optimisation was successful:', success)\n",
    "    list_C01.append(infos[-1]['parameters_for_analysis']['C_{0,1}'])\n",
    "    list_C02.append(infos[-1]['parameters_for_analysis']['C_{0,2}'])\n",
    "    list_C12.append(infos[-1]['parameters_for_analysis']['C_{1,2}'])\n",
    "    list_gamma0.append(infos[-1]['parameters_for_analysis']['\\\\gamma_0'])\n",
    "    list_gamma1.append(infos[-1]['parameters_for_analysis']['\\\\gamma_1'])"
   ]
  },
  {
   "cell_type": "code",
   "execution_count": 31,
   "metadata": {},
   "outputs": [
    {
     "data": {
      "text/plain": [
       "<matplotlib.legend.Legend at 0x7fce28c52320>"
      ]
     },
     "execution_count": 31,
     "metadata": {},
     "output_type": "execute_result"
    },
    {
     "data": {
      "image/png": "[encoded data removed]",
      "text/plain": [
       "<Figure size 500x500 with 1 Axes>"
      ]
     },
     "metadata": {},
     "output_type": "display_data"
    }
   ],
   "source": [
    "fig, ax = plt.subplots(figsize=(5,5))\n",
    "\n",
    "ax.plot(Gvals, list_C02, ls='None', marker='o', label='$C_\\mathrm{in,aux}$')\n",
    "ax.plot(Gvals, list_C12, ls='None', marker='o', label='$C_\\mathrm{out,aux}$')\n",
    "ax.plot(Gvals, list_C01, ls='None', marker='o', label='$C_\\mathrm{in,out}$', markersize=3)\n",
    "ax.plot(Gvals, list_gamma0, ls='None', marker='o', label='$\\gamma_0$')\n",
    "ax.plot(Gvals, list_gamma1, ls='None', marker='o', label='$\\gamma_1$')\n",
    "\n",
    "# plot dependencies for the parameter values\n",
    "xs = np.linspace(Gvals[0]-.5, Gvals[-1]+.5)\n",
    "ax.axhline(1., label='guess', ls='dashed', color='black', zorder=-100)\n",
    "ax.axhline(0., ls='dashed', color='black', zorder=-100)\n",
    "ax.plot(xs, xs, ls='dashed', color='black', zorder=-100)\n",
    "ax.plot(xs, xs+1, ls='dashed', color='black', zorder=-100)\n",
    "ax.set_xlabel('gain value')\n",
    "ax.set_ylabel('cooperativities and dimensionless intrinsic loss rates')\n",
    "ax.set_xlim(xs[0], xs[-1])\n",
    "ax.legend(bbox_to_anchor=(0,0,1,0.9))"
   ]
  },
  {
   "cell_type": "markdown",
   "metadata": {},
   "source": [
    "In a similar way the other amplifiers with two auxiliary modes can be analysed. The easiest way to find the symbolic expressions is to find first the symbolic expressions for the full scattering matrix including the scattering from and to the auxiliary modes. The coupling matrix can then be computed by simple matrix inversion. The resulting coupling rates are provided in the Supplemental Material in [arxiv:2404.14887](https://arxiv.org/abs/2404.14887)."
   ]
  },
  {
   "cell_type": "markdown",
   "metadata": {},
   "source": []
  }
 ],
 "metadata": {
  "kernelspec": {
   "display_name": "jax",
   "language": "python",
   "name": "python3"
  },
  "language_info": {
   "codemirror_mode": {
    "name": "ipython",
    "version": 3
   },
   "file_extension": ".py",
   "mimetype": "text/x-python",
   "name": "python",
   "nbconvert_exporter": "python",
   "pygments_lexer": "ipython3",
   "version": "3.10.12"
  }
 },
 "nbformat": 4,
 "nbformat_minor": 2
}
