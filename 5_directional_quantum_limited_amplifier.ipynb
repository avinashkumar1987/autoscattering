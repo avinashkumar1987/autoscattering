{
 "cells": [
  {
   "cell_type": "code",
   "execution_count": 1,
   "metadata": {},
   "outputs": [],
   "source": [
    "import sympy as sp\n",
    "import numpy as np\n",
    "import jax\n",
    "import jax.numpy as jnp\n",
    "jax.config.update(\"jax_enable_x64\", True)\n",
    "\n",
    "import matplotlib.pyplot as plt\n",
    "import multimode_systems.architecture_optimizer_new as arch_opt\n",
    "import multimode_systems.constraints as msc\n",
    "import multimode_systems.symbolic as sym\n",
    "np.set_printoptions(linewidth=200)"
   ]
  },
  {
   "cell_type": "markdown",
   "metadata": {},
   "source": [
    "In this example we reproduce the fully directional amplifier shown in Fig. 2(c) in our article [arxiv:2404.14887](https://arxiv.org/abs/2404.14887)\n",
    "\n",
    "This example is motived by the work of [Liu et al.](https://journals.aps.org/prapplied/abstract/10.1103/PhysRevApplied.21.014021)\n",
    "\n",
    "The goal is to design an amplifier which, which amplifies incoming signal by a factor of $G$, but has no backscattering at the input or output port. There should be no scattering from the output to the input port as the output port is connected to a room-temperature batch.\n",
    "This corresponds to the target scattering matrix: $S_\\mathrm{target} = \\begin{pmatrix} 0&0\\\\ \\sqrt{G} & 0 \\end{pmatrix}$\n",
    "\n",
    "Furthermore, the noise at the input and output ports should be at their respective quantum limits. The number of added noise photons at the input (mode 1) and output (mode 2) port can be computed at resonance ($\\omega=0$) by:\n",
    "$\n",
    "\\begin{align}\n",
    "    N_\\mathrm{input}^\\mathrm{add}=\\frac{1}{2} \\sum_{k} \\left( (n_k^\\mathrm{in}+1) |S_{1k}|^2 + (n_k^\\mathrm{noise}+1) |\\mathcal{N}_{1k}|^2 \\right) \\\\\n",
    "    N_\\mathrm{output}^\\mathrm{add}=\\frac{1}{2} \\sum_{k\\neq 1} \\left( (n_k^\\mathrm{in}+1) |S_{2k}|^2 + (n_k^\\mathrm{noise}+1) |\\mathcal{N}_{2k}|^2 \\right)\n",
    "\\end{align}\n",
    "$\n",
    "$S_{ij}$ are the elements of the full scattering matrix which includes the scattering from and to the auxiliary modes. $\\mathcal{N}_{ij}$ describes the linear response to fluctuations entering from the intrinsic loss channels at the port modes.\n",
    "$n_k^\\mathrm{in}$ and $n_k^\\mathrm{noise}$ are the occupation numbers of the baths connected to the respective modes. We assume that all the baths are at zero temperature, except the bath connected to the output channel. So, $n_j^\\mathrm{in}=0$ if $j\\neq 2$, $n_j^\\mathrm{noise}=0$ for all $j$, and $n_2^\\mathrm{in} > 0$.\n",
    "\n",
    "The quantum limit for a phase-preserving amplifiers is $N_\\mathrm{input}^\\mathrm{add}=1/2$ and $N_\\mathrm{output}^\\mathrm{add}=(G-1)/2$ (see [A. A. Clerk et al.](https://journals.aps.org/rmp/abstract/10.1103/RevModPhys.82.1155)). The value for $N_\\mathrm{output}^\\mathrm{add}$ can only be achieved if input and output mode are corotating. If they are counterrotating the commuation relations lead to additional photon, so such an amplifier can at best achieve $N_\\mathrm{output}^\\mathrm{add}=(G+1)/2$.\n",
    "\n",
    "The quantum limit condition can not be directly expressed using a target scattering matrix. Instead, we define an extra constraints ($f_j$ in Equ. (1) in [arxiv:2404.14887](https://arxiv.org/abs/2404.14887)).\n",
    "\n",
    "Please check [arxiv:2404.14887](https://arxiv.org/abs/2404.14887) for further details."
   ]
  },
  {
   "cell_type": "markdown",
   "metadata": {},
   "source": [
    "In the following we define these extra constraints."
   ]
  },
  {
   "cell_type": "code",
   "execution_count": 2,
   "metadata": {},
   "outputs": [],
   "source": [
    "class MinimalAddedInputNoise(msc.Base_Constraint):\n",
    "    def __call__(self, scattering_matrix, coupling_matrix, kappa_int_matrix):\n",
    "        '''\n",
    "        calculates the difference between the number of added input photons and the quantum limit\n",
    "\n",
    "        input arguments:\n",
    "        scattering matrix: full scattering matrix for the current parameter set, this also includes the scattering from and to the auxiliary modes\n",
    "        coupling matrix: dimensionless coupling matrix (sigma_z @ H in our equations) for the current parameter set, this constraint does not make any use of the coupling matrix\n",
    "        kappa_int_matrix: diagional matrix with the dimensionless intrinsic loss rates on the diagonal\n",
    "        '''\n",
    "\n",
    "        # calculate the linear response to fluctuations entering from the intrinsic loss channels (\\mathcal{N} in the equations above)\n",
    "        noise_matrix = (scattering_matrix - jnp.eye(scattering_matrix.shape[0])) @ kappa_int_matrix\n",
    "\n",
    "        # calculate number of added photons at the input port, already considers that the target scattering matrix will be enforced\n",
    "        total_noise = 1/2 * (jnp.sum(jnp.abs(scattering_matrix[0,2:])**2) + jnp.sum(jnp.abs(noise_matrix[0,:])**2))\n",
    "        quantum_limit = 1/2\n",
    "        return total_noise-quantum_limit\n",
    "\n",
    "class MinimalAddedOutputNoise(msc.Base_Constraint):\n",
    "    def __init__(self, Gval, input_output_corotating):\n",
    "        '''\n",
    "        Gval: target gain value\n",
    "        input_output_corotating: True if input and output are corotating, False if they are counterrotating. In later case the minimum number of added photons is larger one photon.\n",
    "        '''\n",
    "        self.Gval = Gval\n",
    "        self.input_output_corotating = input_output_corotating\n",
    "\n",
    "    def __call__(self, scattering_matrix, coupling_matrix, kappa_int_matrix):\n",
    "        '''\n",
    "        calculates the difference between the number of added output photons and the quantum limit\n",
    "\n",
    "        input arguments:\n",
    "        scattering matrix: full scattering matrix for the current parameter set, this also includes the scattering from and to the auxiliary modes\n",
    "        coupling matrix: dimensionless coupling matrix (sigma_z @ H in our equations) for the current parameter set, this constraint does not make any use of the coupling matrix\n",
    "        kappa_int_matrix: diagional matrix with the dimensionless intrinsic loss rates on the diagonal\n",
    "        '''\n",
    "\n",
    "        # calculate the linear response to fluctuations entering from the intrinsic loss channels (\\mathcal{N} in the equations above)\n",
    "        noise_matrix = (scattering_matrix - jnp.eye(scattering_matrix.shape[0])) @ kappa_int_matrix\n",
    "\n",
    "        # calculate number of added photons at the input port, already considers that the target scattering matrix will be enforced\n",
    "        total_noise = 1/2 * (jnp.sum(jnp.abs(scattering_matrix[1,2:])**2) + jnp.sum(jnp.abs(noise_matrix[1,:])**2))\n",
    "\n",
    "        if self.input_output_corotating:\n",
    "            quantum_limit = (self.Gval - 1)/2\n",
    "        else:\n",
    "            quantum_limit = (self.Gval + 1)/2\n",
    "\n",
    "        return total_noise-quantum_limit\n"
   ]
  },
  {
   "cell_type": "markdown",
   "metadata": {},
   "source": [
    "To achieve amplification squeezing interactions are required. "
   ]
  },
  {
   "cell_type": "code",
   "execution_count": 3,
   "metadata": {},
   "outputs": [
    {
     "name": "stdout",
     "output_type": "stream",
     "text": [
      "fully connected graph is a valid graph\n"
     ]
    }
   ],
   "source": [
    "Gval = 3. # target gain value\n",
    "mode_types = [True, True ,True, False] # defines whether modes are co- or counterrotating \n",
    "S_target = sp.Matrix([[0,0],[np.sqrt(Gval),0]])\n",
    "enforced_constraints = [MinimalAddedInputNoise(), MinimalAddedOutputNoise(Gval=Gval, input_output_corotating=mode_types[0]==mode_types[1])]\n",
    "\n",
    "optimizer = arch_opt.Architecture_Optimizer(\n",
    "    S_target=S_target,\n",
    "    num_auxiliary_modes=2,\n",
    "    mode_types=mode_types,\n",
    "    enforced_constraints=enforced_constraints,\n",
    "    kwargs_optimization={'num_tests': 20},\n",
    "    solver_options={'maxiter': 1000}\n",
    ")"
   ]
  },
  {
   "cell_type": "code",
   "execution_count": 4,
   "metadata": {},
   "outputs": [
    {
     "name": "stdout",
     "output_type": "stream",
     "text": [
      "prepare list of all possible graphs\n"
     ]
    },
    {
     "name": "stderr",
     "output_type": "stream",
     "text": [
      "3456it [00:00, 147579.10it/s]\n"
     ]
    },
    {
     "name": "stdout",
     "output_type": "stream",
     "text": [
      "3456 graphs identified\n",
      "start depth-first search\n",
      "test all graphs with 16 degrees of freedom:\n"
     ]
    },
    {
     "name": "stderr",
     "output_type": "stream",
     "text": [
      "  0%|          | 0/1 [00:00<?, ?it/s]"
     ]
    },
    {
     "name": "stderr",
     "output_type": "stream",
     "text": [
      "100%|██████████| 1/1 [00:00<00:00,  5.13it/s]\n"
     ]
    },
    {
     "name": "stdout",
     "output_type": "stream",
     "text": [
      "test all graphs with 15 degrees of freedom:\n"
     ]
    },
    {
     "name": "stderr",
     "output_type": "stream",
     "text": [
      "100%|██████████| 7/7 [00:01<00:00,  5.42it/s]\n"
     ]
    },
    {
     "name": "stdout",
     "output_type": "stream",
     "text": [
      "test all graphs with 14 degrees of freedom:\n"
     ]
    },
    {
     "name": "stderr",
     "output_type": "stream",
     "text": [
      "100%|██████████| 27/27 [00:09<00:00,  2.84it/s]\n"
     ]
    },
    {
     "name": "stdout",
     "output_type": "stream",
     "text": [
      "test all graphs with 13 degrees of freedom:\n"
     ]
    },
    {
     "name": "stderr",
     "output_type": "stream",
     "text": [
      "100%|██████████| 68/68 [00:08<00:00,  8.16it/s]\n"
     ]
    },
    {
     "name": "stdout",
     "output_type": "stream",
     "text": [
      "test all graphs with 12 degrees of freedom:\n"
     ]
    },
    {
     "name": "stderr",
     "output_type": "stream",
     "text": [
      "100%|██████████| 135/135 [00:29<00:00,  4.63it/s]\n"
     ]
    },
    {
     "name": "stdout",
     "output_type": "stream",
     "text": [
      "test all graphs with 11 degrees of freedom:\n"
     ]
    },
    {
     "name": "stderr",
     "output_type": "stream",
     "text": [
      "100%|██████████| 146/146 [00:31<00:00,  4.67it/s]\n"
     ]
    },
    {
     "name": "stdout",
     "output_type": "stream",
     "text": [
      "test all graphs with 10 degrees of freedom:\n"
     ]
    },
    {
     "name": "stderr",
     "output_type": "stream",
     "text": [
      "100%|██████████| 101/101 [00:06<00:00, 15.27it/s]\n"
     ]
    },
    {
     "name": "stdout",
     "output_type": "stream",
     "text": [
      "test all graphs with 9 degrees of freedom:\n"
     ]
    },
    {
     "name": "stderr",
     "output_type": "stream",
     "text": [
      "100%|██████████| 32/32 [00:00<00:00, 69.27it/s]\n"
     ]
    },
    {
     "name": "stdout",
     "output_type": "stream",
     "text": [
      "test all graphs with 8 degrees of freedom:\n"
     ]
    },
    {
     "name": "stderr",
     "output_type": "stream",
     "text": [
      "0it [00:00, ?it/s]\n"
     ]
    },
    {
     "name": "stdout",
     "output_type": "stream",
     "text": [
      "test all graphs with 7 degrees of freedom:\n"
     ]
    },
    {
     "name": "stderr",
     "output_type": "stream",
     "text": [
      "0it [00:00, ?it/s]\n"
     ]
    },
    {
     "name": "stdout",
     "output_type": "stream",
     "text": [
      "test all graphs with 6 degrees of freedom:\n"
     ]
    },
    {
     "name": "stderr",
     "output_type": "stream",
     "text": [
      "0it [00:00, ?it/s]\n"
     ]
    },
    {
     "name": "stdout",
     "output_type": "stream",
     "text": [
      "test all graphs with 5 degrees of freedom:\n"
     ]
    },
    {
     "name": "stderr",
     "output_type": "stream",
     "text": [
      "0it [00:00, ?it/s]\n"
     ]
    },
    {
     "name": "stdout",
     "output_type": "stream",
     "text": [
      "test all graphs with 4 degrees of freedom:\n"
     ]
    },
    {
     "name": "stderr",
     "output_type": "stream",
     "text": [
      "0it [00:00, ?it/s]\n"
     ]
    },
    {
     "name": "stdout",
     "output_type": "stream",
     "text": [
      "test all graphs with 3 degrees of freedom:\n"
     ]
    },
    {
     "name": "stderr",
     "output_type": "stream",
     "text": [
      "0it [00:00, ?it/s]\n"
     ]
    },
    {
     "name": "stdout",
     "output_type": "stream",
     "text": [
      "test all graphs with 2 degrees of freedom:\n"
     ]
    },
    {
     "name": "stderr",
     "output_type": "stream",
     "text": [
      "0it [00:00, ?it/s]\n"
     ]
    },
    {
     "name": "stdout",
     "output_type": "stream",
     "text": [
      "test all graphs with 1 degrees of freedom:\n"
     ]
    },
    {
     "name": "stderr",
     "output_type": "stream",
     "text": [
      "0it [00:00, ?it/s]\n"
     ]
    },
    {
     "name": "stdout",
     "output_type": "stream",
     "text": [
      "test all graphs with 0 degrees of freedom:\n"
     ]
    },
    {
     "name": "stderr",
     "output_type": "stream",
     "text": [
      "0it [00:00, ?it/s]"
     ]
    },
    {
     "name": "stdout",
     "output_type": "stream",
     "text": [
      "optimisation finished, list of irreducible graphs has 7 elements\n"
     ]
    },
    {
     "name": "stderr",
     "output_type": "stream",
     "text": [
      "\n"
     ]
    }
   ],
   "source": [
    "list_of_irreducible_graphs = optimizer.perform_depth_first_search()"
   ]
  },
  {
   "cell_type": "code",
   "execution_count": 5,
   "metadata": {},
   "outputs": [
    {
     "data": {
      "image/png": "[encoded data removed]",
      "text/plain": [
       "<Figure size 1250x500 with 10 Axes>"
      ]
     },
     "metadata": {},
     "output_type": "display_data"
    }
   ],
   "source": [
    "node_colors = ['orange', 'red', 'gray', 'gray'] # the input is orange, the output red, the auxiliary modes are gray\n",
    "node_positions = [[-1,0],[0,1],[1,0],[0,0.5]]\n",
    "msc.plot_list_of_graphs(list_of_irreducible_graphs, mode_types=mode_types, positions=node_positions, node_colors=node_colors)"
   ]
  },
  {
   "cell_type": "code",
   "execution_count": 8,
   "metadata": {},
   "outputs": [
    {
     "data": {
      "text/plain": [
       "[array([1, 2, 0, 2, 1, 2, 2, 1, 2, 1], dtype=int8),\n",
       " array([1, 1, 1, 2, 1, 1, 0, 0, 0, 0], dtype=int8)]"
      ]
     },
     "execution_count": 8,
     "metadata": {},
     "output_type": "execute_result"
    }
   ],
   "source": [
    "optimizer.invalid_combinations"
   ]
  },
  {
   "cell_type": "code",
   "execution_count": null,
   "metadata": {},
   "outputs": [],
   "source": []
  }
 ],
 "metadata": {
  "kernelspec": {
   "display_name": "jax",
   "language": "python",
   "name": "python3"
  },
  "language_info": {
   "codemirror_mode": {
    "name": "ipython",
    "version": 3
   },
   "file_extension": ".py",
   "mimetype": "text/x-python",
   "name": "python",
   "nbconvert_exporter": "python",
   "pygments_lexer": "ipython3",
   "version": "3.10.12"
  }
 },
 "nbformat": 4,
 "nbformat_minor": 2
}
