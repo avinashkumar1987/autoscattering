{
 "cells": [
  {
   "cell_type": "code",
   "execution_count": 11,
   "metadata": {},
   "outputs": [],
   "source": [
    "import numpy as np\n",
    "from tqdm import tqdm\n",
    "from itertools import product\n",
    "import scipy\n",
    "def estimate_complexity_easy(num_modes):\n",
    "    num_couplings = (num_modes**2 + num_modes)//2\n",
    "    return 2**num_couplings"
   ]
  },
  {
   "cell_type": "code",
   "execution_count": 12,
   "metadata": {},
   "outputs": [],
   "source": [
    "def generate_all_graphs(num_modes):\n",
    "    num_couplings = (num_modes**2 + num_modes)//2\n",
    "    allowed_entries = [0,1]\n",
    "    possible_matrix_entries = [allowed_entries]*num_couplings\n",
    "    list_of_upper_triangular_coupling_matrices = []\n",
    "    complexities = []\n",
    "    for p_coupl in tqdm(product(*possible_matrix_entries)):\n",
    "        list_of_upper_triangular_coupling_matrices.append(np.array(p_coupl, dtype='int8'))\n",
    "        complexities.append(sum(p_coupl))\n",
    "    return list_of_upper_triangular_coupling_matrices, complexities\n"
   ]
  },
  {
   "cell_type": "code",
   "execution_count": 35,
   "metadata": {},
   "outputs": [
    {
     "name": "stderr",
     "output_type": "stream",
     "text": [
      "64it [00:00, 113263.91it/s]"
     ]
    },
    {
     "name": "stdout",
     "output_type": "stream",
     "text": [
      "deviation our equation, total sum 0\n",
      "deviation our equation, total counted 0\n",
      "deviation in layer0: 0.0\n",
      "deviation in layer1: 0.0\n",
      "deviation in layer2: 0.0\n",
      "deviation in layer3: 0.0\n",
      "deviation in layer4: 0.0\n",
      "deviation in layer5: 0.0\n"
     ]
    },
    {
     "name": "stderr",
     "output_type": "stream",
     "text": [
      "\n"
     ]
    }
   ],
   "source": [
    "def estimate_complexity_advanced(num_modes):\n",
    "    num_couplings = (num_modes**2 + num_modes)//2\n",
    "    \n",
    "    num_nodes_total = 1 #already added fully connected graph\n",
    "    nodes_in_layer = 1\n",
    "    passed_layers = 1\n",
    "    nodes_per_layer = []\n",
    "    nodes_per_layer.append(nodes_in_layer)\n",
    "    for layer in range(num_couplings-1, -1, -1):\n",
    "        nodes_in_layer = nodes_in_layer * (num_couplings - passed_layers + 1)//passed_layers\n",
    "        nodes_per_layer.append(nodes_in_layer)\n",
    "        num_nodes_total += nodes_in_layer\n",
    "        passed_layers += 1\n",
    "        # print(layer, nodes_in_layer)\n",
    "    return num_nodes_total, nodes_per_layer\n",
    "\n",
    "num_modes = 3\n",
    "nodes_total, nodes_per_layer = estimate_complexity_advanced(num_modes)# - estimate_complexity_easy(num_modes)\n",
    "all_graphs, all_complexities = generate_all_graphs(num_modes)\n",
    "\n",
    "unique_complexities = np.sort(np.unique(all_complexities))\n",
    "counted_complexities = []\n",
    "for c in unique_complexities:\n",
    "    counted_complexities.append(np.sum(all_complexities == c))\n",
    "\n",
    "num_couplings = (num_modes**2 + num_modes)//2\n",
    "print('deviation our equation, total sum', nodes_total-estimate_complexity_easy(num_modes))\n",
    "print('deviation our equation, total counted', nodes_total-len(all_graphs))\n",
    "for layer_idx in range((num_modes**2+num_modes)//2):\n",
    "    print('deviation in layer%i:'%layer_idx, counted_complexities[layer_idx]-scipy.special.binom(num_couplings,layer_idx))"
   ]
  },
  {
   "cell_type": "code",
   "execution_count": 36,
   "metadata": {},
   "outputs": [
    {
     "data": {
      "text/plain": [
       "[1, 6, 15, 20, 15, 6, 1]"
      ]
     },
     "execution_count": 36,
     "metadata": {},
     "output_type": "execute_result"
    }
   ],
   "source": [
    "counted_complexities"
   ]
  },
  {
   "cell_type": "code",
   "execution_count": 50,
   "metadata": {},
   "outputs": [
    {
     "data": {
      "text/plain": [
       "15.0"
      ]
     },
     "execution_count": 50,
     "metadata": {},
     "output_type": "execute_result"
    }
   ],
   "source": [
    "20*(num_couplings-3)/4"
   ]
  },
  {
   "cell_type": "code",
   "execution_count": 57,
   "metadata": {},
   "outputs": [
    {
     "data": {
      "text/plain": [
       "14.666666666666666"
      ]
     },
     "execution_count": 57,
     "metadata": {},
     "output_type": "execute_result"
    }
   ],
   "source": [
    "11*(num_couplings-2)/3"
   ]
  },
  {
   "cell_type": "code",
   "execution_count": 52,
   "metadata": {},
   "outputs": [],
   "source": []
  },
  {
   "cell_type": "code",
   "execution_count": null,
   "metadata": {},
   "outputs": [],
   "source": []
  }
 ],
 "metadata": {
  "kernelspec": {
   "display_name": "jax",
   "language": "python",
   "name": "python3"
  },
  "language_info": {
   "codemirror_mode": {
    "name": "ipython",
    "version": 3
   },
   "file_extension": ".py",
   "mimetype": "text/x-python",
   "name": "python",
   "nbconvert_exporter": "python",
   "pygments_lexer": "ipython3",
   "version": "3.10.12"
  }
 },
 "nbformat": 4,
 "nbformat_minor": 2
}
