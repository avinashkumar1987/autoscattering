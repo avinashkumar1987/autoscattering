{
 "cells": [
  {
   "cell_type": "code",
   "execution_count": 7,
   "metadata": {},
   "outputs": [],
   "source": [
    "import sympy as sp\n",
    "import numpy as np\n",
    "import jax\n",
    "jax.config.update(\"jax_enable_x64\", True)\n",
    "\n",
    "import matplotlib.pyplot as plt\n",
    "import autoscattering.architecture_optimizer as arch_opt\n",
    "import autoscattering.constraints as msc\n",
    "import autoscattering.symbolic as sym\n",
    "\n",
    "from autoscattering.architecture import adjacency_to_triu_matrix, triu_to_adjacency_matrix\n",
    "\n"
   ]
  },
  {
   "cell_type": "code",
   "execution_count": 5,
   "metadata": {},
   "outputs": [
    {
     "data": {
      "image/png": "[encoded data removed]",
      "text/plain": [
       "<Figure size 300x300 with 1 Axes>"
      ]
     },
     "metadata": {},
     "output_type": "display_data"
    }
   ],
   "source": [
    "triu_matrix = [0,0,1,0,1,0,1,1,0,0,2,2,0,0,0]\n",
    "upper_triu_adjacency_matrix = triu_to_adjacency_matrix(triu_matrix)\n",
    "plt.figure(figsize=(3,3))\n",
    "msc.plot_graph(triu_matrix=triu_matrix, node_colors=['gray']*5)"
   ]
  },
  {
   "cell_type": "code",
   "execution_count": 93,
   "metadata": {},
   "outputs": [],
   "source": [
    "def find_min_number_of_pumps(triu_matrix):\n",
    "    '''\n",
    "    Identifies the minimum number of parametric pumps required to realise this graph\n",
    "    To do so, we label all modes. If two modes have the same label, they are operated at the same frequency, otherwise they are not.\n",
    "    To find the minimum number of pumps we iterate over all possible labeling combinations. \n",
    "    This function is doing this quite inefficiently doing this and has a lot of redundancies. To do in future: Remove the redundancies!\n",
    "    Current runtime: ~50ms per graph if the graph has 5 modes\n",
    "    '''\n",
    "    \n",
    "    upper_triu_adjacency_matrix = triu_to_upper_triu_adjacency_matrix(triu_matrix)\n",
    "    num_modes = upper_triu_adjacency_matrix.shape[0]\n",
    "    \n",
    "    counted_pumps = []\n",
    "    possible_labels = np.arange(num_modes)\n",
    "    for labels in product(*([possible_labels]*num_modes)):\n",
    "        result = count_pumps(labels, upper_triu_adjacency_matrix=upper_triu_adjacency_matrix)\n",
    "        if result is not None:\n",
    "            counted_pumps.append(result)\n",
    "\n",
    "    return np.min(counted_pumps)\n",
    "\n",
    "def triu_to_upper_triu_adjacency_matrix(triu_matrix):\n",
    "    '''\n",
    "    transform a graph in list form to its adjacency matrix, where the lower triangle is set to zero\n",
    "    the full adjacency matrix would be provided by the function triu_to_adjacency_matrix\n",
    "    '''\n",
    "    size_upper_triangle_matrix = len(triu_matrix)\n",
    "    num_modes = int((-1 + np.sqrt(1+4*2*size_upper_triangle_matrix))//2)\n",
    "    idxs_upper_triangle = np.array(np.triu_indices(num_modes))\n",
    "    adjacency_matrix = np.zeros([num_modes, num_modes], dtype='int8')\n",
    "    for idxs, value in zip(idxs_upper_triangle.T, triu_matrix):\n",
    "        adjacency_matrix[idxs[0], idxs[1]] = value\n",
    "    return adjacency_matrix\n",
    "\n",
    "def count_pumps(labels, triu_matrix=None, upper_triu_adjacency_matrix=None):\n",
    "    '''\n",
    "    Counts the number of parametric pumps given a certain graph and labels\n",
    "\n",
    "    labels: list of integers equalling the number of modes. If two modes have the same label (the same integer), the are operated at the same frequency. Modes with different labels are operated at different frequencies\n",
    "    triu_matrix: defines the graph as a list containing the elements of the upper triangular matrix of the adjacency matrix\n",
    "    upper_triu_adjacency_matrix: adjacency matrix, where the lower triangle is set to zero. Passing an actual adjacency matrix will result in a miscounting!\n",
    "\n",
    "    If both triu_matrix and upper_triu_adjacency_matrix are passed, the function will use triu_matrix\n",
    "    '''\n",
    "    if triu_matrix is not None:\n",
    "        upper_triu_adjacency_matrix = triu_to_upper_triu_adjacency_matrix(triu_matrix)\n",
    "\n",
    "    # if a coupling is either a complex-valued beamsplitter interaction or a squeezing interaction the labels have to be different between the modes connected by the correspond edge\n",
    "    # this loop tests if this is the case, if not the function returns None as the labeling is not valid\n",
    "    idxs1, idxs2 = np.where(upper_triu_adjacency_matrix==2)\n",
    "    for idx1, idx2 in zip(idxs1, idxs2):\n",
    "        if labels[idx1] == labels[idx2]:\n",
    "            return None\n",
    "    \n",
    "    # Now we count the pumps. We sum over all edges. If an edge connects two modes with a different label, a pump is required, otherwise not.\n",
    "    num_pumps = 0\n",
    "    idxs1, idxs2 = np.where(upper_triu_adjacency_matrix!=0)\n",
    "    for idx1, idx2 in zip(idxs1, idxs2):\n",
    "        if labels[idx1] != labels[idx2]:\n",
    "            num_pumps += 1\n",
    "\n",
    "    return num_pumps"
   ]
  },
  {
   "cell_type": "code",
   "execution_count": 94,
   "metadata": {},
   "outputs": [],
   "source": [
    "idxs1, idxs2 = np.where(triu_to_upper_triu_adjacency_matrix(triu_matrix)==2)"
   ]
  },
  {
   "cell_type": "code",
   "execution_count": 95,
   "metadata": {},
   "outputs": [
    {
     "name": "stdout",
     "output_type": "stream",
     "text": [
      "81.5 µs ± 3.43 µs per loop (mean ± std. dev. of 7 runs, 10,000 loops each)\n"
     ]
    }
   ],
   "source": [
    "%%timeit\n",
    "count_pumps(triu_matrix, [1,1,1,2,2])"
   ]
  },
  {
   "cell_type": "code",
   "execution_count": 99,
   "metadata": {},
   "outputs": [
    {
     "data": {
      "text/plain": [
       "3"
      ]
     },
     "execution_count": 99,
     "metadata": {},
     "output_type": "execute_result"
    }
   ],
   "source": [
    "# %%timeit\n",
    "find_min_number_of_pumps([0, 0, 1, 1, 1, 0, 1, 1, 1, 0, 0, 2, 0, 0, 0])"
   ]
  },
  {
   "cell_type": "code",
   "execution_count": null,
   "metadata": {},
   "outputs": [],
   "source": []
  }
 ],
 "metadata": {
  "kernelspec": {
   "display_name": "jax",
   "language": "python",
   "name": "python3"
  },
  "language_info": {
   "codemirror_mode": {
    "name": "ipython",
    "version": 3
   },
   "file_extension": ".py",
   "mimetype": "text/x-python",
   "name": "python",
   "nbconvert_exporter": "python",
   "pygments_lexer": "ipython3",
   "version": "3.10.12"
  }
 },
 "nbformat": 4,
 "nbformat_minor": 2
}
